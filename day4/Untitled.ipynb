{
 "cells": [
  {
   "cell_type": "markdown",
   "id": "6d4fad9b-e186-43a0-ac0f-c16df5784501",
   "metadata": {},
   "source": [
    "# Day 4 Gradient Boost & XGBoost"
   ]
  },
  {
   "cell_type": "markdown",
   "id": "91b46815-d1d5-486b-8a0b-d29aac8e44f2",
   "metadata": {},
   "source": [
    "1. Посчитать рукамим градиент, как работает поиск минимального"
   ]
  },
  {
   "cell_type": "markdown",
   "id": "0629cb91-72c8-4b3a-a6cc-cec664cb1669",
   "metadata": {},
   "source": [
    "Gradient Boosting идеален для структурированных/табличных данных, требует меньше данных для высокой точности, проще в настройке. "
   ]
  },
  {
   "cell_type": "markdown",
   "id": "6fbffe3c-5356-448f-baaf-ecf6e4f5669d",
   "metadata": {},
   "source": [
    "loss - это функция, которая измеряет, насколько предсказания модели отклоняются от правильных значений, и именно её мы минимизируем.\n",
    "weak learners — это слабые модели (обычно мелкие деревья), которые сами по себе дают неточные предсказания, но в ансамбле способны построить сильную модель, последовательно корректируя ошибки друг друга.\n",
    "Learning rate — это множитель (обычно от 0.01 до 0.2), который контролирует, насколько сильно каждый новый weak learner влияет на итоговую модель. Это мера осторожности: мы не доверяем сразу новым корректировкам на 100%."
   ]
  },
  {
   "cell_type": "code",
   "execution_count": null,
   "id": "d969da88-d9b9-4fae-876b-7a9a5a35140c",
   "metadata": {},
   "outputs": [],
   "source": []
  },
  {
   "cell_type": "code",
   "execution_count": null,
   "id": "e8e3fa3b-5254-4534-9080-4a01cc0e0362",
   "metadata": {},
   "outputs": [],
   "source": []
  }
 ],
 "metadata": {
  "kernelspec": {
   "display_name": "Python 3 (ipykernel)",
   "language": "python",
   "name": "python3"
  },
  "language_info": {
   "codemirror_mode": {
    "name": "ipython",
    "version": 3
   },
   "file_extension": ".py",
   "mimetype": "text/x-python",
   "name": "python",
   "nbconvert_exporter": "python",
   "pygments_lexer": "ipython3",
   "version": "3.13.2"
  }
 },
 "nbformat": 4,
 "nbformat_minor": 5
}
