{
 "cells": [
  {
   "cell_type": "markdown",
   "id": "1cf069d3-443a-4ab2-85c4-be8aa14fe401",
   "metadata": {},
   "source": [
    "# Задача 200 coderun"
   ]
  },
  {
   "cell_type": "code",
   "execution_count": 1,
   "id": "87282e3a-c0f7-467d-800b-c06c563852a6",
   "metadata": {},
   "outputs": [],
   "source": [
    "import numpy as np\n",
    "import pandas as pd"
   ]
  },
  {
   "cell_type": "code",
   "execution_count": 2,
   "id": "13f836ce-ba0e-4dd2-94da-47f7e30e0c9a",
   "metadata": {},
   "outputs": [],
   "source": [
    "train = pd.read_csv(\"train.tsv\", sep=\"\\t\", header=None) # sep = \"\\t\" показывает разделитель в tsv файле \n",
    "# header=None указывает, что нет заголовков\n",
    "test = pd.read_csv(\"test.tsv\", sep=\"\\t\", header=None)"
   ]
  },
  {
   "cell_type": "code",
   "execution_count": 3,
   "id": "c83763bb-d027-460c-a192-71e0788f58e6",
   "metadata": {},
   "outputs": [
    {
     "data": {
      "text/plain": [
       "(10000, 101)"
      ]
     },
     "execution_count": 3,
     "metadata": {},
     "output_type": "execute_result"
    }
   ],
   "source": [
    "train.shape"
   ]
  },
  {
   "cell_type": "code",
   "execution_count": 4,
   "id": "8c6ae3e5-ec54-4314-9379-ceefb9f23ba3",
   "metadata": {},
   "outputs": [
    {
     "data": {
      "text/plain": [
       "(1000, 100)"
      ]
     },
     "execution_count": 4,
     "metadata": {},
     "output_type": "execute_result"
    }
   ],
   "source": [
    "test.shape"
   ]
  },
  {
   "cell_type": "code",
   "execution_count": 5,
   "id": "52809590-7f75-4931-a16a-e5971c4a1b93",
   "metadata": {},
   "outputs": [],
   "source": [
    "# Отделим признаки: все столбцы кроме последнего (0…99)\n",
    "X = train.iloc[:, :-1].values    # размер (10000, 100)\n",
    "\n",
    "# Отделим целевое значение: последний столбец (100)\n",
    "y = train.iloc[:, -1].values.reshape(-1, 1)  # размер (10000, 1)"
   ]
  },
  {
   "cell_type": "code",
   "execution_count": null,
   "id": "d54d8f55-2618-4478-9b04-60fc98199da8",
   "metadata": {},
   "outputs": [],
   "source": []
  },
  {
   "cell_type": "markdown",
   "id": "af7e4d78-6aaa-46d4-a624-f24da2dc58c2",
   "metadata": {},
   "source": [
    "создаёт столбец из единиц (10000 строк, 1 колонка),\n",
    "“склеивает” столбец единиц слева к твоей матрице X,\n",
    "итоговая матрица, которую мы будем использовать для обучения\n"
   ]
  },
  {
   "cell_type": "code",
   "execution_count": 6,
   "id": "ec89635e-1020-49fd-922e-dd7ec70181d8",
   "metadata": {},
   "outputs": [],
   "source": [
    "# Добавим единичный столбец в начало X (для свободного члена b)\n",
    "ones = np.ones((X.shape[0], 1))   # создаём колонку из 1: (10000, 1)\n",
    "X_aug = np.hstack([ones, X])     # склеиваем по горизонтали: (10000, 101)\n",
    "X_aug = X_aug.astype(np.float64)  # строго один раз, ничего больше"
   ]
  },
  {
   "cell_type": "code",
   "execution_count": 7,
   "id": "b9d69461-1252-40ea-b9c0-83d972dcecde",
   "metadata": {},
   "outputs": [
    {
     "data": {
      "text/plain": [
       "array([[1.000000e+00, 5.081360e-03, 2.732210e-03, ..., 4.375370e-03,\n",
       "        8.412300e-04, 6.529100e-04],\n",
       "       [1.000000e+00, 4.174910e-03, 7.084480e-03, ..., 2.766070e-03,\n",
       "        3.999750e-03, 8.292280e-03],\n",
       "       [1.000000e+00, 1.175410e-03, 1.298870e-03, ..., 3.283010e-03,\n",
       "        2.215900e-04, 4.203090e-03],\n",
       "       ...,\n",
       "       [1.000000e+00, 2.114960e-03, 1.112993e-02, ..., 1.636344e-02,\n",
       "        1.119067e-02, 2.249600e-03],\n",
       "       [1.000000e+00, 4.023160e-03, 2.407500e-04, ..., 4.102650e-03,\n",
       "        4.440250e-03, 5.700450e-03],\n",
       "       [1.000000e+00, 9.003000e-04, 6.132900e-03, ..., 5.207050e-03,\n",
       "        4.707980e-03, 2.040500e-03]], shape=(10000, 101))"
      ]
     },
     "execution_count": 7,
     "metadata": {},
     "output_type": "execute_result"
    }
   ],
   "source": [
    "X_aug"
   ]
  },
  {
   "cell_type": "code",
   "execution_count": 9,
   "id": "68268102-4db1-4fc3-ad0b-6ac3ed26d217",
   "metadata": {},
   "outputs": [
    {
     "name": "stdout",
     "output_type": "stream",
     "text": [
      "Размер весов: (101, 1)\n",
      "Первые 5 весов: [-1.42108547e-16  1.00000000e+00  1.00000000e+00  1.00000000e+00\n",
      "  1.00000000e+00]\n"
     ]
    }
   ],
   "source": [
    "# Переводим всё в float128 для высокой точности\n",
    "#X_aug = X_aug.astype(np.float64)\n",
    "#y = y.astype(np.float64)\n",
    "\n",
    "# Решаем систему уравнений X_aug @ w = y методом наименьших квадратов\n",
    "w = np.linalg.lstsq(X_aug, y, rcond=None)[0]\n",
    "\n",
    "# Смотрим на размер и первые 5 весов\n",
    "print(\"Размер весов:\", w.shape)\n",
    "print(\"Первые 5 весов:\", w[:5].flatten())"
   ]
  },
  {
   "cell_type": "code",
   "execution_count": 11,
   "id": "b9f4a379-c174-4959-95e1-4336f9013c80",
   "metadata": {},
   "outputs": [
    {
     "name": "stdout",
     "output_type": "stream",
     "text": [
      "y_pred[:5].flatten(): [2.8486006e-01 4.0123294e-01 2.3942324e-01 4.9148569e-01 1.1229000e-04]\n",
      "y[:5].flatten(): [2.8486006e-01 4.0123294e-01 2.3942324e-01 4.9148569e-01 1.1229000e-04]\n"
     ]
    }
   ],
   "source": [
    "print(\"y_pred[:5].flatten():\", y_pred[:5].flatten())\n",
    "print(\"y[:5].flatten():\", y[:5].flatten())"
   ]
  },
  {
   "cell_type": "code",
   "execution_count": 10,
   "id": "438a5664-b6a7-4a51-8f5c-5a348b27313d",
   "metadata": {},
   "outputs": [
    {
     "name": "stdout",
     "output_type": "stream",
     "text": [
      "Максимальная ошибка на train: 1.4432899320127035e-15\n"
     ]
    },
    {
     "name": "stderr",
     "output_type": "stream",
     "text": [
      "/var/folders/16/zqd6jcvn2mxb6ct5mj30tksr0000gn/T/ipykernel_17697/1293825544.py:1: RuntimeWarning: divide by zero encountered in matmul\n",
      "  y_pred = X_aug @ w\n",
      "/var/folders/16/zqd6jcvn2mxb6ct5mj30tksr0000gn/T/ipykernel_17697/1293825544.py:1: RuntimeWarning: overflow encountered in matmul\n",
      "  y_pred = X_aug @ w\n",
      "/var/folders/16/zqd6jcvn2mxb6ct5mj30tksr0000gn/T/ipykernel_17697/1293825544.py:1: RuntimeWarning: invalid value encountered in matmul\n",
      "  y_pred = X_aug @ w\n"
     ]
    }
   ],
   "source": [
    "y_pred = X_aug @ w # @ - оператор матричного перемножения\n",
    "abs_error = np.abs(y_pred - y)\n",
    "print(\"Максимальная ошибка на train:\", abs_error.max())"
   ]
  },
  {
   "cell_type": "code",
   "execution_count": 12,
   "id": "6a8f4cab-c734-4850-8130-e15212ff0141",
   "metadata": {},
   "outputs": [
    {
     "name": "stderr",
     "output_type": "stream",
     "text": [
      "/var/folders/16/zqd6jcvn2mxb6ct5mj30tksr0000gn/T/ipykernel_17697/1444633707.py:6: RuntimeWarning: divide by zero encountered in matmul\n",
      "  y_test_pred = X_test_aug @ w\n",
      "/var/folders/16/zqd6jcvn2mxb6ct5mj30tksr0000gn/T/ipykernel_17697/1444633707.py:6: RuntimeWarning: overflow encountered in matmul\n",
      "  y_test_pred = X_test_aug @ w\n",
      "/var/folders/16/zqd6jcvn2mxb6ct5mj30tksr0000gn/T/ipykernel_17697/1444633707.py:6: RuntimeWarning: invalid value encountered in matmul\n",
      "  y_test_pred = X_test_aug @ w\n"
     ]
    }
   ],
   "source": [
    "# 1. Преобразуем test.tsv в массив и добавим столбец единиц\n",
    "X_test = test.values.astype(np.float64)\n",
    "X_test_aug = np.hstack([np.ones((X_test.shape[0], 1)), X_test])\n",
    "\n",
    "# 2. Предсказываем с помощью обученной модели\n",
    "y_test_pred = X_test_aug @ w\n",
    "\n",
    "# 3. Округляем до 8 знаков после точки\n",
    "y_test_rounded = np.round(y_test_pred.flatten(), 8)\n",
    "\n",
    "# 4. Сохраняем в answer.tsv — строго без индексов и заголовков\n",
    "pd.Series(y_test_rounded).to_csv(\n",
    "    \"answer.tsv\", sep=\"\\t\", index=False, header=False, float_format=\"%.8f\"\n",
    ")"
   ]
  },
  {
   "cell_type": "code",
   "execution_count": null,
   "id": "898c88b9-1cf5-4d53-a3f7-7b76adf0bb53",
   "metadata": {},
   "outputs": [],
   "source": []
  }
 ],
 "metadata": {
  "kernelspec": {
   "display_name": "Python 3 (ipykernel)",
   "language": "python",
   "name": "python3"
  },
  "language_info": {
   "codemirror_mode": {
    "name": "ipython",
    "version": 3
   },
   "file_extension": ".py",
   "mimetype": "text/x-python",
   "name": "python",
   "nbconvert_exporter": "python",
   "pygments_lexer": "ipython3",
   "version": "3.13.2"
  }
 },
 "nbformat": 4,
 "nbformat_minor": 5
}
